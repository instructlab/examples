{
 "cells": [
  {
   "cell_type": "markdown",
   "id": "3c8f85ae-96e0-4212-ba08-c72d731d78d7",
   "metadata": {},
   "source": [
    "[![](https://colab.research.google.com/assets/colab-badge.svg)](https://colab.research.google.com/github/instructlab/examples/blob/ux-notebook-reviewer/ux-notebook-reviewer/ux_notebook_reviewer.ipynb)"
   ]
  },
  {
   "cell_type": "markdown",
   "id": "cdcad57c-52b8-442d-b669-0d743c044344",
   "metadata": {},
   "source": [
    "# UX Notebook Reviewer\n",
    "\n",
    "## Goal & Objective\n",
    "This notebook allows you to upload and evaluate other Jupyter Notebooks based on UX best practices. It checks for clarity, structure, readability, and completeness — helping notebook authors improve user experience.\n",
    "The goal is to automate the review process using both structured logic and, eventually, an AI model."
   ]
  },
  {
   "cell_type": "markdown",
   "id": "d79dc31d-a423-48be-91ea-ff3e260c9327",
   "metadata": {},
   "source": [
    "### Usage Instructions:\n",
    "\n",
    "0. **Install Required Packages:** What you will need. \n",
    "1. **Upload your Notebook:** Use the file uploader to select the `.ipynb` file you wish to review.\n",
    "2. **Automatted UX Review:** Execute the code cells in sequence. The notebook will parse your uploaded file and apply the UX checklist.\n",
    "3. **Review the Report:** A markdown table will be generated, detailing the status of each guideline and providing suggestions where applicable."
   ]
  },
  {
   "cell_type": "markdown",
   "id": "ae1f1c6d-a720-4cd2-aada-562d7c6465d6",
   "metadata": {},
   "source": [
    "---"
   ]
  },
  {
   "cell_type": "markdown",
   "id": "16836145-3b25-4f82-9fde-6134b2c21b5b",
   "metadata": {},
   "source": [
    "## 0. Install Required Pacakges\n",
    "Before running any of the automation or parsing cells, make sure you have these core dependencies:\n",
    "\n",
    "- **ipywidgets** (≥7.6.0): for interactive loading indicators  \n",
    "- **nbformat**   (≥5.1.3): to parse `.ipynb` files into Python objects  \n",
    "- **openai**     (≥0.27.0): your Ollama-shim client library  "
   ]
  },
  {
   "cell_type": "code",
   "execution_count": null,
   "id": "7547df4b-7732-4c71-b7a6-15952720cc18",
   "metadata": {},
   "outputs": [],
   "source": [
    "# Install required packages (run once)\n",
    "!pip install --upgrade ipywidgets nbformat openai pandas matplotlib"
   ]
  },
  {
   "cell_type": "markdown",
   "id": "fcc28ddb-430e-4452-b482-0648c0e5d4f1",
   "metadata": {},
   "source": [
    "## 1. Upload Notebook File\n",
    "Creates an upload button where you can select a .ipynb file. Once uploaded, the file will be held in memory and ready for review."
   ]
  },
  {
   "cell_type": "markdown",
   "id": "98ceb9a5-0e97-469a-adf9-3e5a09fc81ae",
   "metadata": {},
   "source": [
    "---"
   ]
  },
  {
   "cell_type": "code",
   "execution_count": null,
   "id": "67dcaaea-7b5b-497d-824f-5ce0af5632a9",
   "metadata": {},
   "outputs": [],
   "source": [
    "from ipywidgets import FileUpload\n",
    "from IPython.display import display\n",
    "\n",
    "upload = FileUpload(accept='.ipynb', multiple=False)\n",
    "display(upload)"
   ]
  },
  {
   "cell_type": "markdown",
   "id": "e4798bf2-7143-4e6d-aae0-35b749fb62be",
   "metadata": {},
   "source": [
    "---"
   ]
  },
  {
   "cell_type": "markdown",
   "id": "49b8ec90-f46c-4c09-ac47-b47ed39b2f3d",
   "metadata": {},
   "source": [
    "## 2. Automated UX Review\n",
    "\n",
    "Maintaining consistent usability across Jupyter notebooks can be time-consuming and subjective. This automated evaluation:\n",
    "\n",
    "1. Loads and validates your uploaded notebook  \n",
    "2. Runs each guideline from our UX template against the notebook  \n",
    "3. Produces an objective Markdown table of results (✅/🔹/❌/–)  \n",
    "4. Reports the total elapsed time for transparency  \n",
    "\n",
    "Run this cell to instantly uncover UX strengths and weaknesses and ensure every notebook meets our quality standards without manual effort.  "
   ]
  },
  {
   "cell_type": "code",
   "execution_count": null,
   "id": "94351c6f-226b-468d-a7b6-fbbcde03662a",
   "metadata": {},
   "outputs": [],
   "source": [
    "# ─── Cell: Automated UX Review w/ Live Timer & Elapsed Header ───\n",
    "import time, threading\n",
    "import nbformat\n",
    "from openai import OpenAI\n",
    "import ipywidgets as widgets\n",
    "from IPython.display import display, clear_output, Markdown\n",
    "\n",
    "# ——— Constants ——————————————————————————————————————————————\n",
    "LEGEND_MD = \"\"\"**Legend: **  \n",
    "✅ 90–100% compliance (excellent)  \n",
    "🔹 60–89% compliance (good but needs a little work)  \n",
    "❌ 0–59% compliance (major issue)  \n",
    "– not applicable  \n",
    "\"\"\"\n",
    "\n",
    "TABLE_TEMPLATE = \"\"\"| Guideline      | Status | Suggestion                               |\n",
    "|:-----------------------|:----------|:--------------------------------------------------|\n",
    "| Clear Header           |           |                                                   |\n",
    "| Goal/Objective Present |           |                                                   |\n",
    "| Setup & Pre-Requisites |           |                                                   |\n",
    "| Markdown Usage         |           |                                                   |\n",
    "| Avoid Hardcoding       |           |                                                   |\n",
    "| Inline Code Comments   |           |                                                   |\n",
    "| Next Steps & Conclusion|           |                                                   |\n",
    "\"\"\"\n",
    "\n",
    "# ——— 1) Validate upload and load notebook —————————————————————\n",
    "notebook_data, notebook_name = load_notebook(upload)\n",
    "if notebook_data is None:\n",
    "    clear_output(wait=True)\n",
    "    display(Markdown(f\"❌ {notebook_name}\"))\n",
    "    raise RuntimeError(\"Please upload a valid notebook above.\")\n",
    "display(Markdown(f\"✅ Loaded **{notebook_name}** with **{len(notebook_data.cells)}** cells.\"))\n",
    "\n",
    "# ——— 2) Prepare prompt —————————————————————————————————————\n",
    "notebook_text = extract_notebook_text(notebook_data)\n",
    "review_prompt = f\"\"\"\n",
    "Here is a Jupyter notebook for review:\n",
    "\n",
    "{notebook_text}\n",
    "\n",
    "{LEGEND_MD}\n",
    "\n",
    "Return *only* this Markdown table, filled in:\n",
    "\n",
    "{TABLE_TEMPLATE}\n",
    "\"\"\"\n",
    "\n",
    "# ——— 3) Start live timer + spinner ————————————————————————\n",
    "start_time  = time.time()\n",
    "timer_label = widgets.Label(\"Elapsed: 0.0s\")\n",
    "spinner     = widgets.HTML(\"<b>🧠 Evaluating the notebook…</b>\")\n",
    "display(widgets.HBox([spinner, timer_label]))\n",
    "\n",
    "stop_flag = threading.Event()\n",
    "def _tick():\n",
    "    while not stop_flag.is_set():\n",
    "        elapsed = time.time() - start_time\n",
    "        timer_label.value = f\"Elapsed: {elapsed:.1f}s\"\n",
    "        time.sleep(0.1)\n",
    "\n",
    "thread = threading.Thread(target=_tick, daemon=True)\n",
    "thread.start()\n",
    "\n",
    "# ——— 4) Invoke the LLM ———————————————————————————————————\n",
    "client   = OpenAI(base_url=\"http://localhost:11434/v1\", api_key=\"ollama\")\n",
    "response = client.chat.completions.create(\n",
    "    model=\"llama3.1:8b-instruct-fp16\",\n",
    "    messages=[\n",
    "        {\"role\": \"system\", \"content\": \"You are a helpful UX reviewer of Jupyter Notebooks.\"},\n",
    "        {\"role\": \"user\",   \"content\": review_prompt},\n",
    "    ],\n",
    "    temperature=0.3,\n",
    ")\n",
    "\n",
    "# ——— 5) Stop timer, join, clear output ——————————————————————\n",
    "stop_flag.set()\n",
    "thread.join(timeout=0.5)\n",
    "elapsed = time.time() - start_time\n",
    "clear_output(wait=True)\n",
    "\n",
    "# ─── 6) Render header + table ─────────────────────────────\n",
    "display(Markdown(f\"## UX Review of **{notebook_name}** (took {elapsed:.1f}s)\\n\\n{LEGEND_MD}\"))\n",
    "\n",
    "table_lines = [\n",
    "    ln for ln in response.choices[0].message.content.splitlines()\n",
    "    if ln.lstrip().startswith(\"|\")\n",
    "]\n",
    "display(Markdown(\"\\n\".join(table_lines)))\n",
    "\n",
    "# ─── 7) Bullet‐list of suggestions ────────────────────────\n",
    "suggestions = []\n",
    "# skip header row (0) and separator row (1)\n",
    "for row in table_lines[2:]:\n",
    "    cols = [c.strip() for c in row.strip(\"|\").split(\"|\")]\n",
    "    name, icon, sugg = cols[0], cols[1], cols[2]\n",
    "    if sugg and sugg != \"-\":\n",
    "        suggestions.append(f\"- **{name}** ({icon}): {sugg}\")\n",
    "\n",
    "if suggestions:\n",
    "    display(Markdown(\"### Suggestions\\n\" + \"\\n\".join(suggestions)))"
   ]
  },
  {
   "cell_type": "markdown",
   "id": "27ae7597-e20e-4431-bb72-45cec54a79a8",
   "metadata": {},
   "source": [
    "# Next Steps\n",
    "\n",
    "- Review and correct any 🔹/❌ items above.  \n",
    "- Commit this notebook and rerun the review to confirm compliance.  \n",
    "- Integrate into your CI pipeline for automated checks on every PR.  \n"
   ]
  }
 ],
 "metadata": {
  "kernelspec": {
   "display_name": "Python 3 (ipykernel)",
   "language": "python",
   "name": "python3"
  },
  "language_info": {
   "codemirror_mode": {
    "name": "ipython",
    "version": 3
   },
   "file_extension": ".py",
   "mimetype": "text/x-python",
   "name": "python",
   "nbconvert_exporter": "python",
   "pygments_lexer": "ipython3",
   "version": "3.11.10"
  }
 },
 "nbformat": 4,
 "nbformat_minor": 5
}
