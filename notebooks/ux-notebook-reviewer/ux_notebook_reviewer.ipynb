{
 "cells": [
  {
   "cell_type": "markdown",
   "id": "cdcad57c-52b8-442d-b669-0d743c044344",
   "metadata": {},
   "source": [
    "# UX Notebook Reviwer\n",
    "\n",
    "This notebook allows you to upload and evaluate other Jupyter Notebooks based on UX best practices. It checks for clarity, structure, readability, and completeness — helping notebook authors improve user experience.\n",
    "The goal is to automate the review process using both structured logic and, eventually, an AI model."
   ]
  },
  {
   "cell_type": "markdown",
   "id": "d79dc31d-a423-48be-91ea-ff3e260c9327",
   "metadata": {},
   "source": [
    "### Usage Instructions:\n",
    "\n",
    "0. **Install Required Packages:** What you will need. \n",
    "1. **Upload your Notebook:** Use the file uploader to select the `.ipynb` file you wish to review.\n",
    "2. **Automatted UX Review:** Execute the code cells in sequence. The notebook will parse your uploaded file and apply the UX checklist.\n",
    "3. **Review the Report:** A markdown table will be generated, detailing the status of each guideline and providing suggestions where applicable.\n",
    "4. **Add Custom Notes (Optional):** Utilize the \"Reviewer Notes\" section to add any additional qualitative feedback or summary.\n",
    "5. **Export (Optional):** Download or copy the generated review markdown for easy sharing."
   ]
  },
  {
   "cell_type": "markdown",
   "id": "ae1f1c6d-a720-4cd2-aada-562d7c6465d6",
   "metadata": {},
   "source": [
    "---"
   ]
  },
  {
   "cell_type": "markdown",
   "id": "16836145-3b25-4f82-9fde-6134b2c21b5b",
   "metadata": {},
   "source": [
    "## 0. Install Required Pacakges\n",
    "Before running any of the automation or parsing cells, make sure you have these core dependencies:\n",
    "\n",
    "- **ipywidgets** (≥7.6.0): for interactive loading indicators  \n",
    "- **nbformat**   (≥5.1.3): to parse `.ipynb` files into Python objects  \n",
    "- **openai**     (≥0.27.0): your Ollama-shim client library  "
   ]
  },
  {
   "cell_type": "code",
   "execution_count": null,
   "id": "7547df4b-7732-4c71-b7a6-15952720cc18",
   "metadata": {},
   "outputs": [],
   "source": [
    "# Install required packages (run once)\n",
    "!pip install --upgrade ipywidgets nbformat openai pandas matplotlib"
   ]
  },
  {
   "cell_type": "markdown",
   "id": "98ceb9a5-0e97-469a-adf9-3e5a09fc81ae",
   "metadata": {},
   "source": [
    "---"
   ]
  },
  {
   "cell_type": "markdown",
   "id": "fcc28ddb-430e-4452-b482-0648c0e5d4f1",
   "metadata": {},
   "source": [
    "## 1. Upload Notebook File\n",
    "Creates an upload button where you can select a .ipynb file. Once uploaded, the file will be held in memory and ready for review."
   ]
  },
  {
   "cell_type": "code",
   "execution_count": 42,
   "id": "2dc0edaa-7cca-4b5a-bb03-fbd6e1121baa",
   "metadata": {
    "scrolled": true
   },
   "outputs": [
    {
     "data": {
      "application/vnd.jupyter.widget-view+json": {
       "model_id": "73b3e4fc63cd476db50b63d6606b09d1",
       "version_major": 2,
       "version_minor": 0
      },
      "text/plain": [
       "FileUpload(value=(), accept='.ipynb', description='Upload')"
      ]
     },
     "metadata": {},
     "output_type": "display_data"
    }
   ],
   "source": [
    "from ipywidgets import FileUpload\n",
    "from IPython.display import display\n",
    "\n",
    "upload = FileUpload(accept='.ipynb', multiple=False)\n",
    "display(upload)"
   ]
  },
  {
   "cell_type": "markdown",
   "id": "e4798bf2-7143-4e6d-aae0-35b749fb62be",
   "metadata": {},
   "source": [
    "---"
   ]
  },
  {
   "cell_type": "markdown",
   "id": "5881b650-d755-424e-a1ad-338dcb480c94",
   "metadata": {},
   "source": [
    "## 2. Automated UX Review (LLM-Powered)\n",
    "\n",
    "This section uses a local LLM (via Ollama) to evaluate the structure and user experience of your uploaded Jupyter Notebook.  \n",
    "It applies a structured checklist based on best practices for clarity, reusability, and reader guidance.\n",
    "1. **Extract Notebook Content**: Gathers all markdown and code cells into a plain-text string.\n",
    "2. **Build Structured Prompt**: Injects a legend (✅/🔹/❌/–) and the exact table skeleton so the model knows what to fill in.\n",
    "3. **Invoke LLM**: Sends the prompt to your local Ollama-backed model via the OpenAI shim.\n",
    "4. **Parse & Render**: Filters the response to display only the filled-in Markdown table with left-aligned suggestions.\n",
    "\n",
    "By embedding this automated review step, you get a consistent, reproducible UX evaluation right inside your notebook—no manual scoring required. "
   ]
  },
  {
   "cell_type": "code",
   "execution_count": null,
   "id": "daf7b560-d83a-4448-99df-5ba1b39cc4ff",
   "metadata": {
    "jupyter": {
     "source_hidden": true
    },
    "scrolled": true
   },
   "outputs": [],
   "source": [
    "import nbformat\n",
    "\n",
    "def load_notebook(upload_widget):\n",
    "    if not upload_widget.value or len(upload_widget.value) == 0:\n",
    "        return None, \"❌ No file uploaded.\"\n",
    "\n",
    "    uploaded = upload_widget.value\n",
    "\n",
    "    # Handle both tuple and dict formats\n",
    "    if isinstance(uploaded, tuple) and len(uploaded) > 0 and isinstance(uploaded[0], dict):\n",
    "        file_info = uploaded[0]\n",
    "        filename = file_info.get(\"name\", \"Unnamed Notebook\")\n",
    "        content = file_info[\"content\"]\n",
    "    elif isinstance(uploaded, dict):\n",
    "        filename, file_info = next(iter(uploaded.items()))\n",
    "        content = file_info[\"content\"]\n",
    "    else:\n",
    "        return None, \"❌ Unexpected upload structure.\"\n",
    "\n",
    "    try:\n",
    "        nb = nbformat.reads(bytes(content).decode('utf-8'), as_version=4)\n",
    "        return nb, filename\n",
    "    except Exception as e:\n",
    "        return None, f\"❌ Error reading notebook: {e}\"\n",
    "\n",
    "# Load the notebook\n",
    "notebook_data, notebook_name = load_notebook(upload)\n",
    "\n",
    "# Feedback\n",
    "if notebook_data:\n",
    "    print(f\"✅ Loaded notebook: {notebook_name} with {len(notebook_data.cells)} cells.\")\n",
    "else:\n",
    "    print(notebook_name)\n"
   ]
  },
  {
   "cell_type": "markdown",
   "id": "80753437-9a44-427a-b1e0-9ea82dc157c9",
   "metadata": {},
   "source": [
    "---"
   ]
  },
  {
   "cell_type": "code",
   "execution_count": 44,
   "id": "ecb5cfec-fefd-41da-a082-9754adee7cc6",
   "metadata": {},
   "outputs": [
    {
     "data": {
      "text/markdown": [
       "Here is a review of your Jupyter Notebook based on the guidelines you provided:\n",
       "\n",
       "| Guideline              | Status | Suggestion                                        |\n",
       "|------------------------|--------|:--------------------------------------------------|\n",
       "| Clear Header           | ✅      | Excellent header with clear title and sections   |\n",
       "| Goal/Objective Present | 🔹      | Consider adding a brief summary or objective at the beginning of the notebook. This will help users understand what they can expect from running this notebook. |\n",
       "| Setup & Pre-Requisites | 🔹      | The setup section is mostly complete, but consider adding more details about the required dependencies and environment settings. For example, you could mention that Python 3.11 is recommended and that later versions are not supported. |\n",
       "| Markdown Usage         | ✅      | Excellent use of markdown throughout the notebook, with clear headings, paragraphs, and code blocks. |\n",
       "| Avoid Hardcoding       | 🔹      | There are several instances where hardcoded values are used (e.g., API keys, model IDs). Consider using environment variables or configuration files to make these values more flexible and easier to manage. |\n",
       "| Inline Code Comments   | ✅      | Excellent use of inline comments to explain code logic and provide context. |\n",
       "| Next Steps & Conclusion| 🔹      | The notebook concludes with a summary of the steps taken, but consider adding more details about what users can expect next (e.g., running the resulting `seed.jsonl` file in another notebook). |"
      ],
      "text/plain": [
       "<IPython.core.display.Markdown object>"
      ]
     },
     "metadata": {},
     "output_type": "display_data"
    }
   ],
   "source": [
    "# ───── Cell: UX Notebook Review w/ Legend ─────\n",
    "from openai import OpenAI\n",
    "import ipywidgets as widgets\n",
    "from IPython.display import display, clear_output, Markdown\n",
    "\n",
    "# 1) Extract your notebook’s text\n",
    "notebook_text = extract_notebook_text(notebook_data)\n",
    "\n",
    "# 2) Build prompt with legend + strict, left-aligned table skeleton\n",
    "review_prompt = f\"\"\"\n",
    "Here is a Jupyter notebook for review:\n",
    "\n",
    "{notebook_text}\n",
    "\n",
    "**Legend (think of each icon as a %-based score):**  \n",
    "✅ Green check: 90–100% compliance (excellent)  \n",
    "🔹 Blue diamond: 60–89% compliance (good but needs a little work)  \n",
    "❌ Red X: 0–59% compliance or completely missing (major issue)  \n",
    "– Hyphen: not applicable  \n",
    "\n",
    "You MUST return *only* a GitHub-flavored Markdown table with these columns, \n",
    "in this exact order, and no other text:\n",
    "\n",
    "| Guideline              | Status | Suggestion                                        |\n",
    "|------------------------|--------|:--------------------------------------------------|\n",
    "| Clear Header           |        |                                                   |\n",
    "| Goal/Objective Present |        |                                                   |\n",
    "| Setup & Pre-Requisites |        |                                                   |\n",
    "| Markdown Usage         |        |                                                   |\n",
    "| Avoid Hardcoding       |        |                                                   |\n",
    "| Inline Code Comments   |        |                                                   |\n",
    "| Next Steps & Conclusion|        |                                                   |\n",
    "\n",
    "Fill in each row’s **Status** (using the legend above) and **Suggestion**.  \n",
    "Use ❌ if the notebook does **not** address this guideline at all.\n",
    "\"\"\"\n",
    "\n",
    "# 3) Send to your Ollama-backed LLM\n",
    "client = OpenAI(base_url=\"http://localhost:11434/v1\", api_key=\"ollama\")\n",
    "loading = widgets.HTML(\"<b>🧠 Evaluating the notebook…</b>\")\n",
    "display(loading)\n",
    "\n",
    "response = client.chat.completions.create(\n",
    "    model=\"llama3.1:8b-instruct-fp16\",\n",
    "    messages=[\n",
    "        {\"role\": \"system\", \"content\": \"You are a helpful UX reviewer of technical Jupyter Notebooks.\"},\n",
    "        {\"role\": \"user\",   \"content\": review_prompt},\n",
    "    ],\n",
    "    temperature=0.3,\n",
    ")\n",
    "\n",
    "# 4) Filter output: keep legend lines plus the table\n",
    "clear_output()\n",
    "raw = response.choices[0].message.content.splitlines()\n",
    "\n",
    "legend_block = []\n",
    "table_block  = []\n",
    "in_table = False\n",
    "for ln in raw:\n",
    "    if ln.strip().startswith(\"|\"):\n",
    "        in_table = True\n",
    "        table_block.append(ln)\n",
    "    elif not in_table and ln.strip():\n",
    "        legend_block.append(ln)\n",
    "\n",
    "# 5) Render legend + table\n",
    "output_md = \"\\n\".join(legend_block + [\"\"] + table_block)\n",
    "display(Markdown(output_md))"
   ]
  },
  {
   "cell_type": "markdown",
   "id": "1865e66b-ddc8-43e3-af96-4ae5d4a3c655",
   "metadata": {},
   "source": [
    "# Next Steps\n",
    "- Should we create suggestions?\n",
    "- What should users do with this information?\n",
    "- export?\n",
    "- github integration\n",
    "- timer\n",
    "- download new notebook"
   ]
  },
  {
   "cell_type": "code",
   "execution_count": null,
   "id": "933c232f-2c0f-4e36-bc10-4964e298a7ae",
   "metadata": {},
   "outputs": [],
   "source": []
  }
 ],
 "metadata": {
  "kernelspec": {
   "display_name": "Python 3 (ipykernel)",
   "language": "python",
   "name": "python3"
  },
  "language_info": {
   "codemirror_mode": {
    "name": "ipython",
    "version": 3
   },
   "file_extension": ".py",
   "mimetype": "text/x-python",
   "name": "python",
   "nbconvert_exporter": "python",
   "pygments_lexer": "ipython3",
   "version": "3.11.10"
  }
 },
 "nbformat": 4,
 "nbformat_minor": 5
}
