{
 "cells": [
  {
   "cell_type": "markdown",
   "id": "7c83150f-fa8b-42a1-8974-ce9483912fba",
   "metadata": {},
   "source": [
    "# Document Conversion with Docling\n",
    "\n",
    "This notebook uses [Docling](https://github.com/docling-project/docling) to convert any type of document into a Docling Document: a structured representation of the original document that can be exported as JSON."
   ]
  },
  {
   "cell_type": "code",
   "execution_count": null,
   "id": "8cf4340c-cfd4-418c-955b-be8c0d544e67",
   "metadata": {},
   "outputs": [],
   "source": [
    "!pip install -qq docling"
   ]
  },
  {
   "cell_type": "markdown",
   "id": "6f5e2659-e626-4235-97fc-f311adf8f5b7",
   "metadata": {},
   "source": [
    "### Set directory for files to convert and output directory"
   ]
  },
  {
   "cell_type": "code",
   "execution_count": null,
   "id": "d8d12166-8b40-4c46-9147-27cfc1c8b09a",
   "metadata": {},
   "outputs": [],
   "source": [
    "from pathlib import Path\n",
    "\n",
    "sample_data_dir = Path(\"data/sample-pdfs\")\n",
    "files = list((sample_data_dir.glob(\"*.pdf\")))\n",
    "\n",
    "output_dir = Path(\"data/output\")\n",
    "output_dir.mkdir(parents=True, exist_ok=True)"
   ]
  },
  {
   "cell_type": "markdown",
   "id": "39d4e3ef-2fdb-45a3-a217-b07638a35363",
   "metadata": {},
   "source": [
    "### Configure Docling conversion pipeline\n",
    "\n",
    "Next we set the configuration options for our conversion pipeline. \n",
    "\n",
    "The standard pipeline options generally yield good and fast results for most documents. In some cases, however, alternative conversion conversion pipelines can lead to better outcomes. For instance, OCR is effective for scanned documents or images that contain text to be extracted and analyzed. In cases where other conversion pipelines didn't produce good results, using a vision-language model (VLM) may be a good option.\n",
    "\n",
    "The next cell contains three combinations of pipeline options: the default (standard) options, a variant that forces OCR on the entire document, and another that uses a VLM. You can comment or uncomment the corresponding code blocks to switch between them or create a custom combination of settings. For more information and additional conversion conversion pipelines, check our [Docling Conversion Tutorials](https://github.com/instructlab/examples/blob/main/docs/docling-conversion/README.md).\n",
    "\n",
    "For a complete reference on Docling's conversion pipeline configuration, check the [Examples](https://docling-project.github.io/docling/examples/) section of the official documentation, as well as the [PDFPipelineOptions](https://docling-project.github.io/docling/reference/pipeline_options/#docling.datamodel.pipeline_options.PdfPipelineOptions) and [PDFFormatOptions](https://docling-project.github.io/docling/reference/document_converter/#docling.document_converter.InputFormat.XML_JATS) reference pages."
   ]
  },
  {
   "cell_type": "code",
   "execution_count": null,
   "id": "9be47eb2-8e2d-445c-a5de-fcdd17ef7097",
   "metadata": {},
   "outputs": [],
   "source": [
    "from docling.datamodel.accelerator_options import AcceleratorDevice, AcceleratorOptions\n",
    "from docling.document_converter import DocumentConverter, PdfFormatOption\n",
    "from docling.datamodel.base_models import InputFormat\n",
    "from docling.datamodel.pipeline_options import (\n",
    "    EasyOcrOptions,\n",
    "    PdfPipelineOptions,\n",
    "    VlmPipelineOptions,\n",
    "    smoldocling_vlm_conversion_options,\n",
    ")\n",
    "from docling.pipeline.vlm_pipeline import VlmPipeline\n",
    "from docling.backend.docling_parse_v4_backend import DoclingParseV4DocumentBackend\n",
    "\n",
    "# Standard pipeline options\n",
    "pipeline_options = PdfPipelineOptions()\n",
    "doc_converter = DocumentConverter(\n",
    "    format_options={\n",
    "        InputFormat.PDF: PdfFormatOption(\n",
    "            pipeline_options=pipeline_options\n",
    "        )\n",
    "    }\n",
    ")\n",
    "\n",
    "# Force OCR on the entire page\n",
    "# pipeline_options = PdfPipelineOptions()\n",
    "# pipeline_options.do_ocr = True\n",
    "# pipeline_options.ocr_options.force_full_page_ocr = True\n",
    "# pipeline_options.ocr_options.lang = [\"en\"]\n",
    "# pipeline_options.ocr_options = EasyOcrOptions(force_full_page_ocr=True)\n",
    "# pipeline_options.accelerator_options = AcceleratorOptions(\n",
    "#     num_threads=4, device=AcceleratorDevice.AUTO\n",
    "# )\n",
    "# doc_converter = DocumentConverter(\n",
    "#     format_options={\n",
    "#         InputFormat.PDF: PdfFormatOption(\n",
    "#             pipeline_options=pipeline_options,\n",
    "#             backend=DoclingParseV4DocumentBackend,\n",
    "#         )\n",
    "#     }\n",
    "# )\n",
    "\n",
    "# Use the SmolDocling VLM\n",
    "# pipeline_options = VlmPipelineOptions()\n",
    "# pipeline_options.vlm_options = smoldocling_vlm_conversion_options\n",
    "# doc_converter = DocumentConverter(\n",
    "#     format_options={\n",
    "#         InputFormat.PDF: PdfFormatOption(\n",
    "#             pipeline_options=pipeline_options,\n",
    "#             pipeline_cls=VlmPipeline,\n",
    "#         )\n",
    "#     }\n",
    "# )"
   ]
  },
  {
   "cell_type": "markdown",
   "id": "78ab035e-e05e-41e8-be90-23527b5d4bc4",
   "metadata": {},
   "source": [
    "Finally, we convert every document into Docling JSON as long as it is a [valid file type](https://docling-project.github.io/docling/usage/supported_formats/) to be converted"
   ]
  },
  {
   "cell_type": "code",
   "execution_count": null,
   "id": "b2a45e16-8fa0-4223-9890-7d75f6869aeb",
   "metadata": {},
   "outputs": [],
   "source": [
    "import json\n",
    "\n",
    "confidence_reports = dict()\n",
    "\n",
    "json_files=[]\n",
    "             \n",
    "for file in files:\n",
    "    conversion_result = doc_converter.convert(source=file)\n",
    "\n",
    "    doc = conversion_result.document\n",
    "    doc_dict = doc.export_to_dict()\n",
    "    confidence_reports[file] = conversion_result.confidence\n",
    "\n",
    "\n",
    "    json_output_path = output_dir / f\"{file.stem}.json\"\n",
    "    with open(json_output_path, \"w\") as f:\n",
    "        json.dump(doc_dict, f)\n",
    "        print(f\"Path of JSON output is: {Path(json_output_path).resolve()}\")\n",
    "        json_files.append(json_output_path.resolve())\n",
    "\n",
    "    print(\"Document sample:\\n\")\n",
    "    print(f\"{doc.export_to_text()[:500]}...\")\n",
    "    print()"
   ]
  },
  {
   "cell_type": "markdown",
   "id": "13802403-9342-4e33-96a9-b04b4fedd070",
   "metadata": {},
   "source": [
    "### Conversion confidence\n",
    "\n",
    "When converting a document, Docling can calculate how confident it is in the quality of the conversion. This *confidence* is expressed as both a *score* and a *grade*. The score is a numeric value between 0 and 1, and the grade is a label that can be **poor**, **fair**, **good**, or **excellent**. If Docling is unable to calculate a confidence grade, the value will be marked as *unspecified*.\n",
    "\n",
    "If your document receives a low score (for example, below 0.8) and a grade of *poor* or *fair*, you'll probably benefit from using a different conversion technique. In that case, go back to the *Configure Docling Conversion Pipeline* section and try selecting a different approach (e.g. forcing OCR or using a VLM) and compare the results."
   ]
  },
  {
   "cell_type": "code",
   "execution_count": null,
   "id": "32624c0e-f32c-48c9-85ba-6ab6a3d4cebc",
   "metadata": {},
   "outputs": [],
   "source": [
    "for file, confidence_report in confidence_reports.items():\n",
    "    print(f\"Conversion confidence for {file}:\")\n",
    "    \n",
    "    print(f\"Average confidence: \\x1b[1m{confidence_report.mean_grade.name}\\033[0m (score {confidence_report.mean_score:.3f})\")\n",
    "    \n",
    "    low_score_pages = []\n",
    "    for page in confidence_report.pages:\n",
    "        page_confidence_report = confidence_report.pages[page]\n",
    "        if page_confidence_report.mean_score < confidence_report.mean_score:\n",
    "            low_score_pages.append(page)\n",
    "\n",
    "    print(f\"Pages that scored lower than average: {', '.join(str(x + 1) for x in low_score_pages)}\")\n",
    "    \n",
    "    print()"
   ]
  },
  {
   "cell_type": "markdown",
   "id": "868f1a28-e966-4f28-ad2c-f7ba4b0000ae",
   "metadata": {},
   "source": [
    "### Post-Conversion: Illuminator Analysis\n",
    "\n",
    "The output of document conversion is not always perfect. While optional, reviewing your converted data is strongly recommended. The following example explains how to use the Illuminator tool to identify common conversion issues."
   ]
  },
  {
   "cell_type": "code",
   "execution_count": null,
   "id": "ace1e494-f774-4250-87fc-6407ae5dc283",
   "metadata": {},
   "outputs": [],
   "source": [
    "from illuminator.analysis import analyze_docling_tables\n",
    "from illuminator.utils import generate_summary\n",
    "from docling.datamodel.document import DoclingDocument\n",
    "\n",
    "import json\n",
    "import sys\n",
    "from pathlib import Path\n",
    "\n",
    "converted_json_paths = list(output_dir.glob(\"*.json\"))\n",
    "results = {}\n",
    "    \n",
    "for path in converted_json_paths:\n",
    "    with open(path, \"r\") as f:\n",
    "        doc_dict = json.load(f)\n",
    "\n",
    "    doc = DoclingDocument(**doc_dict)\n",
    "    results[path] = analyze_docling_tables(doc)\n",
    "\n",
    "    summary_path = output_dir / f\"illuminator-readable-summary-{doc.name}.txt\"\n",
    "    \n",
    "    with open(summary_path, \"w\") as f:\n",
    "        generate_summary(results, file=f)\n",
    "    \n",
    "    print(f\"✅ Post-conversion summary saved to: {summary_path.resolve()}\")"
   ]
  },
  {
   "cell_type": "markdown",
   "id": "48afddc0-1cd2-4a98-8670-cac9d6dee3d8",
   "metadata": {},
   "source": [
    "The output of this post-conversion step should help determine whether to avoid using the content entirely or to manually edit it before proceeding to use the document."
   ]
  }
 ],
 "metadata": {
  "kernelspec": {
   "display_name": "Python 3 (ipykernel)",
   "language": "python",
   "name": "python3"
  },
  "language_info": {
   "codemirror_mode": {
    "name": "ipython",
    "version": 3
   },
   "file_extension": ".py",
   "mimetype": "text/x-python",
   "name": "python",
   "nbconvert_exporter": "python",
   "pygments_lexer": "ipython3",
   "version": "3.12.10"
  }
 },
 "nbformat": 4,
 "nbformat_minor": 5
}
